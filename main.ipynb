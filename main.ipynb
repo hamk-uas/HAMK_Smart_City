{
 "cells": [
  {
   "cell_type": "code",
   "execution_count": null,
   "id": "f4b9aad9",
   "metadata": {},
   "outputs": [],
   "source": [
    "from rnn import MyGRU, MyLSTM, VanillaRNN, RNN\n",
    "import pandas as pd"
   ]
  },
  {
   "cell_type": "code",
   "execution_count": null,
   "id": "069dc930",
   "metadata": {},
   "outputs": [],
   "source": [
    "# Download the downsampled data frame from csv-file.\n",
    "raw_data = pd.read_csv(r'C:\\Users\\iivo210\\Documents\\HAMK_Smart_City\\data_example.csv')"
   ]
  },
  {
   "cell_type": "code",
   "execution_count": null,
   "id": "101c6f8e",
   "metadata": {},
   "outputs": [],
   "source": [
    "# Initialize the model with the required parameters.\n",
    "hvac_model = MyGRU(quant=['Inside_temperature'], seq=12, fut=0, parameters=['Outside_humidity',\n",
    "              'Solar_irradiance',\n",
    "              'CO2_concentration',\n",
    "              'hours_sin',\n",
    "              'hours_cos',\n",
    "              'weekday_sin',\n",
    "              'weekday_cos',\n",
    "              'Domestic_water_network_1_primary_valve',\n",
    "              'Domestic_water_network_2_primary_valve',\n",
    "              'District_heat_temperature',\n",
    "              'Outside_temperature_average',\n",
    "              'Ventilation_network_1_temperature',\n",
    "              'Ventilation_network_2_temperature',\n",
    "              'Radiator_network_1_temperature',\n",
    "              'Radiator_network_2_temperature'])\n",
    "              \n",
    "            \n",
    "# Scale, split, and sequence the downsampled data frame.\n",
    "x_train, y_train, x_test, y_test = hvac_model.preprocess(raw_data)"
   ]
  },
  {
   "cell_type": "code",
   "execution_count": null,
   "id": "5e1cf261",
   "metadata": {},
   "outputs": [],
   "source": [
    "# Train the model using custom fit method. \n",
    "# Does hyperparameter optimization automatically in pre-defined search space. Comment row below, if you have already trained the model.\n",
    "hvac_model.fit(X=x_train, y=y_train, epochs=1000, max_trials=15)\n",
    "hvac_model.save()"
   ]
  },
  {
   "cell_type": "code",
   "execution_count": null,
   "id": "e56af7c1",
   "metadata": {},
   "outputs": [],
   "source": [
    "# Save the object to folder in the root of the working directory. Uncomment row below, if you have the model trained already.\n",
    "#hvac_model.load(r'C:\\Users\\iivo210\\Documents\\HAMK_Smart_City\\GRU_Inside_temperature_2021-11-05')\n",
    "\n",
    "# Calculating prediction intervals\n",
    "#rounds = 12     # Number of data instances to calculate prediction intervals to.\n",
    "\n",
    "#for i in range(rounds):\n",
    "    \n",
    "    # Calculating prediction percentiles and saving them to a csv file.\n",
    "    #hvac_model.prediction_interval(x_train, y_train, x_test[i])     # NB! The process is computationally intensive.\n",
    "\n",
    "# Making test predictions with the RNN model.\n",
    "#preds = hvac_model.model.predict(x_train)\n",
    "\n",
    "# Loading prediction intervals from disk.\n",
    "#low, up = hvac_model.load_intervals(r'C:\\Users\\iivo210\\Documents\\HAMK_Smart_City\\GRU_Energy_consumption_2021-10-29\\pred_ints.csv')\n",
    "\n",
    "# Inverse target variables both for measured values and computed predictions.\n",
    "#preds, y_test = hvac_model.inv_target(x_train, preds, y_train)\n",
    "#low, up = hvac_model.inv_target(x_test, low, up)\n",
    "\n",
    "# Plot model prediction alongside measured values.\n",
    "# Add lower and upper intervals as arguments to plot them.\n",
    "#hvac_model.plot_preds(preds, y_test)"
   ]
  }
 ],
 "metadata": {
  "kernelspec": {
   "display_name": "Python 3 (ipykernel)",
   "language": "python",
   "name": "python3"
  },
  "language_info": {
   "codemirror_mode": {
    "name": "ipython",
    "version": 3
   },
   "file_extension": ".py",
   "mimetype": "text/x-python",
   "name": "python",
   "nbconvert_exporter": "python",
   "pygments_lexer": "ipython3",
   "version": "3.9.7"
  }
 },
 "nbformat": 4,
 "nbformat_minor": 5
}
